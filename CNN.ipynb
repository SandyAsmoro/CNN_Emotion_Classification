{
 "cells": [
  {
   "cell_type": "code",
   "execution_count": 1,
   "id": "42c3e1dd",
   "metadata": {},
   "outputs": [],
   "source": [
    "import tensorflow as tf\n",
    "from tensorflow import keras\n",
    "from tensorflow.keras import layers\n",
    "import numpy as np\n",
    "import pandas as pd"
   ]
  },
  {
   "cell_type": "code",
   "execution_count": 2,
   "id": "9a3a03fa",
   "metadata": {},
   "outputs": [],
   "source": [
    "# Muat dataset FER 2013\n",
    "data = pd.read_csv('fer2013.csv')"
   ]
  },
  {
   "cell_type": "code",
   "execution_count": 3,
   "id": "79041543",
   "metadata": {},
   "outputs": [],
   "source": [
    "# Preprocessing data\n",
    "pixels = data['pixels'].tolist()\n",
    "faces = [np.array(pixel.split(' ')).reshape(48, 48, 1).astype('float32') / 255.0 for pixel in pixels]\n",
    "faces = np.array(faces)\n",
    "emotions = pd.get_dummies(data['emotion']).values"
   ]
  },
  {
   "cell_type": "code",
   "execution_count": 4,
   "id": "2fec78b2",
   "metadata": {},
   "outputs": [],
   "source": [
    "# Membangun model CNN\n",
    "model = keras.Sequential([\n",
    "    layers.Conv2D(32, (3, 3), activation='relu', input_shape=(48, 48, 1)),\n",
    "    layers.MaxPooling2D((2, 2)),\n",
    "    layers.Conv2D(64, (3, 3), activation='relu'),\n",
    "    layers.MaxPooling2D((2, 2)),\n",
    "    layers.Conv2D(128, (3, 3), activation='relu'),\n",
    "    layers.MaxPooling2D((2, 2)),\n",
    "    layers.Flatten(),\n",
    "    layers.Dense(128, activation='relu'),\n",
    "    layers.Dense(7, activation='softmax')  # 7 kelas ekspresi wajah\n",
    "])\n",
    "\n",
    "model.compile(optimizer='adam', loss='categorical_crossentropy', metrics=['accuracy'])"
   ]
  },
  {
   "cell_type": "code",
   "execution_count": 5,
   "id": "48720552",
   "metadata": {},
   "outputs": [
    {
     "name": "stdout",
     "output_type": "stream",
     "text": [
      "Epoch 1/10\n",
      "898/898 [==============================] - 104s 114ms/step - loss: 1.6007 - accuracy: 0.3692 - val_loss: 1.4055 - val_accuracy: 0.4600\n",
      "Epoch 2/10\n",
      "898/898 [==============================] - 102s 113ms/step - loss: 1.3318 - accuracy: 0.4917 - val_loss: 1.2909 - val_accuracy: 0.5081\n",
      "Epoch 3/10\n",
      "898/898 [==============================] - 102s 114ms/step - loss: 1.2132 - accuracy: 0.5390 - val_loss: 1.2139 - val_accuracy: 0.5397\n",
      "Epoch 4/10\n",
      "898/898 [==============================] - 101s 113ms/step - loss: 1.1312 - accuracy: 0.5700 - val_loss: 1.1900 - val_accuracy: 0.5446\n",
      "Epoch 5/10\n",
      "898/898 [==============================] - 101s 113ms/step - loss: 1.0604 - accuracy: 0.6010 - val_loss: 1.1774 - val_accuracy: 0.5554\n",
      "Epoch 6/10\n",
      "898/898 [==============================] - 103s 115ms/step - loss: 0.9903 - accuracy: 0.6315 - val_loss: 1.2100 - val_accuracy: 0.5502\n",
      "Epoch 7/10\n",
      "898/898 [==============================] - 101s 112ms/step - loss: 0.9279 - accuracy: 0.6532 - val_loss: 1.1869 - val_accuracy: 0.5580\n",
      "Epoch 8/10\n",
      "898/898 [==============================] - 102s 113ms/step - loss: 0.8611 - accuracy: 0.6787 - val_loss: 1.1943 - val_accuracy: 0.5656\n",
      "Epoch 9/10\n",
      "898/898 [==============================] - 103s 114ms/step - loss: 0.7979 - accuracy: 0.7043 - val_loss: 1.2973 - val_accuracy: 0.5581\n",
      "Epoch 10/10\n",
      "898/898 [==============================] - 102s 114ms/step - loss: 0.7257 - accuracy: 0.7349 - val_loss: 1.3153 - val_accuracy: 0.5658\n"
     ]
    },
    {
     "data": {
      "text/plain": [
       "<keras.src.callbacks.History at 0x130bb0e2f10>"
      ]
     },
     "execution_count": 5,
     "metadata": {},
     "output_type": "execute_result"
    }
   ],
   "source": [
    "# Latih model\n",
    "model.fit(faces, emotions, epochs=10, validation_split=0.2)"
   ]
  },
  {
   "cell_type": "code",
   "execution_count": 7,
   "id": "6277b3ba",
   "metadata": {},
   "outputs": [],
   "source": [
    "model.save('emotion_model.keras')"
   ]
  },
  {
   "cell_type": "code",
   "execution_count": null,
   "id": "aafb6cdf",
   "metadata": {},
   "outputs": [],
   "source": []
  }
 ],
 "metadata": {
  "kernelspec": {
   "display_name": "Python 3 (ipykernel)",
   "language": "python",
   "name": "python3"
  },
  "language_info": {
   "codemirror_mode": {
    "name": "ipython",
    "version": 3
   },
   "file_extension": ".py",
   "mimetype": "text/x-python",
   "name": "python",
   "nbconvert_exporter": "python",
   "pygments_lexer": "ipython3",
   "version": "3.11.5"
  },
  "toc": {
   "base_numbering": 1,
   "nav_menu": {},
   "number_sections": true,
   "sideBar": true,
   "skip_h1_title": false,
   "title_cell": "Table of Contents",
   "title_sidebar": "Contents",
   "toc_cell": false,
   "toc_position": {},
   "toc_section_display": true,
   "toc_window_display": false
  }
 },
 "nbformat": 4,
 "nbformat_minor": 5
}
